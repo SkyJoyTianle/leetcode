{
  "nbformat": 4,
  "nbformat_minor": 0,
  "metadata": {
    "colab": {
      "name": "3. 无重复字符的最长子串.ipynb",
      "provenance": [],
      "authorship_tag": "ABX9TyMLaj85b0wA+/uQCDbuZyRT",
      "include_colab_link": true
    },
    "kernelspec": {
      "name": "python3",
      "display_name": "Python 3"
    },
    "language_info": {
      "name": "python"
    }
  },
  "cells": [
    {
      "cell_type": "markdown",
      "metadata": {
        "id": "view-in-github",
        "colab_type": "text"
      },
      "source": [
        "<a href=\"https://colab.research.google.com/github/SkyJoyTianle/leetcode/blob/main/3_%E6%97%A0%E9%87%8D%E5%A4%8D%E5%AD%97%E7%AC%A6%E7%9A%84%E6%9C%80%E9%95%BF%E5%AD%90%E4%B8%B2.ipynb\" target=\"_parent\"><img src=\"https://colab.research.google.com/assets/colab-badge.svg\" alt=\"Open In Colab\"/></a>"
      ]
    },
    {
      "cell_type": "markdown",
      "source": [
        "给定一个字符串 s ，请你找出其中不含有重复字符的 最长子串 的长度。\n",
        "\n",
        "从每一个字符开始的，不包含重复字符的最长子串."
      ],
      "metadata": {
        "id": "xEuMNzif3lfv"
      }
    },
    {
      "cell_type": "code",
      "source": [
        "class Solution:\n",
        "    def lengthOfLongestSubstring(self, s: str) -> int:\n",
        "        # 哈希集合，记录每个字符是否出现过\n",
        "        occ = set()\n",
        "        n = len(s)\n",
        "        # 右指针，初始值为 -1，相当于我们在字符串的左边界的左侧，还没有开始移动\n",
        "        rk, ans = -1, 0\n",
        "        for i in range(n):\n",
        "            if i != 0:\n",
        "                # 左指针向右移动一格，移除一个字符\n",
        "                occ.remove(s[i - 1])\n",
        "            while rk + 1 < n and s[rk + 1] not in occ:\n",
        "                # 不断地移动右指针\n",
        "                occ.add(s[rk + 1])\n",
        "                rk += 1\n",
        "            # 第 i 到 rk 个字符是一个极长的无重复字符子串\n",
        "            ans = max(ans, rk - i + 1)\n",
        "        return ans\n",
        "\n",
        "Solution().lengthOfLongestSubstring(\"abdcda\")"
      ],
      "metadata": {
        "colab": {
          "base_uri": "https://localhost:8080/"
        },
        "id": "DZNjSkAY3tdn",
        "outputId": "3266511a-5e27-41af-9ecb-3b5ffe7e1a5f"
      },
      "execution_count": null,
      "outputs": [
        {
          "output_type": "execute_result",
          "data": {
            "text/plain": [
              "4"
            ]
          },
          "metadata": {},
          "execution_count": 2
        }
      ]
    }
  ]
}