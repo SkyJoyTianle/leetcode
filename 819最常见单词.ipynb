{
  "nbformat": 4,
  "nbformat_minor": 0,
  "metadata": {
    "colab": {
      "name": "819最常见单词.ipynb",
      "provenance": [],
      "authorship_tag": "ABX9TyOtfpJrcasZvcL2tjCkgF/l",
      "include_colab_link": true
    },
    "kernelspec": {
      "name": "python3",
      "display_name": "Python 3"
    },
    "language_info": {
      "name": "python"
    }
  },
  "cells": [
    {
      "cell_type": "markdown",
      "metadata": {
        "id": "view-in-github",
        "colab_type": "text"
      },
      "source": [
        "<a href=\"https://colab.research.google.com/github/SkyJoyTianle/leetcode/blob/main/819%E6%9C%80%E5%B8%B8%E8%A7%81%E5%8D%95%E8%AF%8D.ipynb\" target=\"_parent\"><img src=\"https://colab.research.google.com/assets/colab-badge.svg\" alt=\"Open In Colab\"/></a>"
      ]
    },
    {
      "cell_type": "code",
      "execution_count": null,
      "metadata": {
        "colab": {
          "base_uri": "https://localhost:8080/"
        },
        "id": "ytPRVV4fTqD8",
        "outputId": "96c013c1-26ef-4de7-c46a-e622d01ae90c"
      },
      "outputs": [
        {
          "output_type": "stream",
          "name": "stdout",
          "text": [
            "a:\n",
            " tensor([[[1., 1.],\n",
            "         [1., 1.],\n",
            "         [1., 1.]],\n",
            "\n",
            "        [[1., 1.],\n",
            "         [1., 1.],\n",
            "         [1., 1.]]]) \n",
            " torch.Size([2, 3, 2])\n",
            "b:\n",
            " tensor([[[1., 1.],\n",
            "         [1., 1.],\n",
            "         [1., 1.]],\n",
            "\n",
            "        [[1., 1.],\n",
            "         [1., 1.],\n",
            "         [1., 1.]]]) \n",
            " torch.Size([2, 3, 2])\n",
            "c:\n",
            " tensor([[[1., 1., 1., 1.],\n",
            "         [1., 1., 1., 1.],\n",
            "         [1., 1., 1., 1.]],\n",
            "\n",
            "        [[1., 1., 1., 1.],\n",
            "         [1., 1., 1., 1.],\n",
            "         [1., 1., 1., 1.]]]) \n",
            " torch.Size([2, 3, 4])\n"
          ]
        }
      ],
      "source": [
        "import torch\n",
        "import numpy as np\n",
        "\n",
        "a = torch.ones(2,3,2)\n",
        "b = torch.ones(2,3,2)\n",
        "c = torch.cat((a,b),2)\n",
        "print(\"a:\\n\",a,\"\\n\",a.shape)\n",
        "print(\"b:\\n\",b,\"\\n\",b.shape)\n",
        "print(\"c:\\n\",c,\"\\n\",c.shape)"
      ]
    },
    {
      "cell_type": "code",
      "source": [
        "from typing import List\n",
        "from collections import Counter\n",
        "\n",
        "class Solution:\n",
        "    def mostCommonWord(self, paragraph: str, banned: List[str]) -> str:\n",
        "        # ban = set(banned)   set是不可变量\n",
        "        freq = Counter()\n",
        "        word, n = \"\", len(paragraph)\n",
        "        for i in range(n + 1):\n",
        "            # print(i)\n",
        "            if i < n and paragraph[i].isalpha():\n",
        "                word += paragraph[i].lower()\n",
        "            elif word:\n",
        "                if word not in banned:\n",
        "                    freq[word] += 1\n",
        "                word = \"\"\n",
        "        maxFreq = max(freq.values())\n",
        "        print(freq.items())\n",
        "        return next(word for word, f in freq.items() if f == maxFreq)\n",
        "\n",
        "paragraph = \"Bob hit a ball, the hit BALL flew far after it was hit.\"\n",
        "banned = [\"hit\"]\n",
        "\n",
        "\n",
        "print(len(paragraph))\n",
        "# print(paragraph[54])\n",
        "Solution().mostCommonWord(paragraph, banned)"
      ],
      "metadata": {
        "colab": {
          "base_uri": "https://localhost:8080/",
          "height": 71
        },
        "id": "2hXtwxZZdzQb",
        "outputId": "2debe184-b670-45df-e45c-5fdcb6126f61"
      },
      "execution_count": null,
      "outputs": [
        {
          "output_type": "stream",
          "name": "stdout",
          "text": [
            "55\n",
            "dict_items([('bob', 1), ('a', 1), ('ball', 2), ('the', 1), ('flew', 1), ('far', 1), ('after', 1), ('it', 1), ('was', 1)])\n"
          ]
        },
        {
          "output_type": "execute_result",
          "data": {
            "text/plain": [
              "'ball'"
            ],
            "application/vnd.google.colaboratory.intrinsic+json": {
              "type": "string"
            }
          },
          "metadata": {},
          "execution_count": 35
        }
      ]
    },
    {
      "cell_type": "code",
      "source": [
        "class Solution:\n",
        "    def mostCommonWord(self, paragraph: str, banned: List[str]) -> str:\n",
        "        ban = set(banned)\n",
        "        freq = Counter()\n",
        "        word, n = \"\", len(paragraph)\n",
        "        for i in range(n):\n",
        "            if paragraph[i].isalpha():\n",
        "                word += paragraph[i].lower()\n",
        "            elif word:        #### 因为此块判断是否禁用字的时候独立于上句if，所以会漏掉最后一个字的判定，所以错\n",
        "                if word not in ban:\n",
        "                    freq[word] += 1\n",
        "                word = \"\"\n",
        "        print(freq)\n",
        "        max_freq = max(freq.values())\n",
        "        return next(word for word, f in freq.items() if f == max_freq)\n",
        "\n",
        "p=\"abd def d d d g g g\"\n",
        "Solution().mostCommonWord(p,b)"
      ],
      "metadata": {
        "colab": {
          "base_uri": "https://localhost:8080/",
          "height": 53
        },
        "id": "03pMZjrgweyZ",
        "outputId": "14ce22c1-4747-4eed-cdc5-1c49f1df0f41"
      },
      "execution_count": null,
      "outputs": [
        {
          "output_type": "stream",
          "name": "stdout",
          "text": [
            "Counter({'d': 3, 'g': 2, 'abd': 1, 'def': 1})\n"
          ]
        },
        {
          "output_type": "execute_result",
          "data": {
            "text/plain": [
              "'d'"
            ],
            "application/vnd.google.colaboratory.intrinsic+json": {
              "type": "string"
            }
          },
          "metadata": {},
          "execution_count": 37
        }
      ]
    }
  ]
}