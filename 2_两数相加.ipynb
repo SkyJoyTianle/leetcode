{
  "nbformat": 4,
  "nbformat_minor": 0,
  "metadata": {
    "colab": {
      "name": "2. 两数相加.ipynb",
      "provenance": [],
      "authorship_tag": "ABX9TyOKKE6KdxsmnZZs2tiUn+Bf",
      "include_colab_link": true
    },
    "kernelspec": {
      "name": "python3",
      "display_name": "Python 3"
    },
    "language_info": {
      "name": "python"
    }
  },
  "cells": [
    {
      "cell_type": "markdown",
      "metadata": {
        "id": "view-in-github",
        "colab_type": "text"
      },
      "source": [
        "<a href=\"https://colab.research.google.com/github/SkyJoyTianle/leetcode/blob/main/2_%E4%B8%A4%E6%95%B0%E7%9B%B8%E5%8A%A0.ipynb\" target=\"_parent\"><img src=\"https://colab.research.google.com/assets/colab-badge.svg\" alt=\"Open In Colab\"/></a>"
      ]
    },
    {
      "cell_type": "code",
      "execution_count": 31,
      "metadata": {
        "id": "ZLII3scRjaec"
      },
      "outputs": [],
      "source": [
        "### 后续重新检查，虽然结果正确，但链表貌似有问题！！！！！！！\n，https://www.jianshu.com/p/ae790890a487",
        "\n",
        "\n",
        "# Definition for singly-linked list.\n",
        "class ListNode:\n",
        "    def __init__(self, val=0, next=None):\n",
        "        self.val = val\n",
        "        self.next = next\n",
        "class Solution:\n",
        "    def addTwoNumbers(self, l1: ListNode, l2: ListNode) -> ListNode:\n",
        "        l3, l4= [], []\n",
        "        while(l1):\n",
        "            l3.append(l1.val)\n",
        "            l1 = l1.next\n",
        "        while(l2):\n",
        "            l4.append(l2.val)\n",
        "            l2 = l2.next\n",
        "        l3.reverse()\n",
        "        l4.reverse()\n",
        "        l3, l4 = int(\"\".join(map(str, l3))), int(\"\".join(map(str, l4)))\n",
        "        l = l3 + l4\n",
        "        l = [int(x) for x in str(l)]\n",
        "        l.reverse()\n",
        "        a = b = ListNode(l[0])\n",
        "        for i in range(1, len(l)):\n",
        "            print(l[i])\n",
        "            a.next = ListNode(l[i])\n",
        "            a = a.next\n",
        "        return b\n"
      ]
    }
  ]
}
