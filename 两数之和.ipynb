{
  "nbformat": 4,
  "nbformat_minor": 0,
  "metadata": {
    "colab": {
      "name": "两数之和.ipynb",
      "provenance": [],
      "authorship_tag": "ABX9TyNEnqvXnTZQ2xYwaSjkRFUl",
      "include_colab_link": true
    },
    "kernelspec": {
      "name": "python3",
      "display_name": "Python 3"
    },
    "language_info": {
      "name": "python"
    }
  },
  "cells": [
    {
      "cell_type": "markdown",
      "metadata": {
        "id": "view-in-github",
        "colab_type": "text"
      },
      "source": [
        "<a href=\"https://colab.research.google.com/github/SkyJoyTianle/leetcode/blob/main/%E4%B8%A4%E6%95%B0%E4%B9%8B%E5%92%8C.ipynb\" target=\"_parent\"><img src=\"https://colab.research.google.com/assets/colab-badge.svg\" alt=\"Open In Colab\"/></a>"
      ]
    },
    {
      "cell_type": "code",
      "execution_count": 4,
      "metadata": {
        "colab": {
          "base_uri": "https://localhost:8080/"
        },
        "id": "jnpvVKbyzNqS",
        "outputId": "0e723b7b-5f5b-468c-936b-03d299c7bba1"
      },
      "outputs": [
        {
          "output_type": "execute_result",
          "data": {
            "text/plain": [
              "[1, 2]"
            ]
          },
          "metadata": {},
          "execution_count": 4
        }
      ],
      "source": [
        "from typing import List\n",
        "\n",
        "## 暴力枚举法\n",
        "\n",
        "class Solution:\n",
        "    def twoSum(self, nums: List[int], target: int) -> List[int]:\n",
        "        n = len(nums)\n",
        "        for i in range(n-1):\n",
        "            for j in range(i + 1, n):\n",
        "                if nums[i] + nums[j] == target:\n",
        "                    return [i, j]\n",
        "        return []\n",
        "\n",
        "nums = [1, 4, 6, 10, 15]\n",
        "targets = 10\n",
        "\n",
        "Solution().twoSum(nums, targets)"
      ]
    },
    {
      "cell_type": "code",
      "source": [
        "## 哈希表\n",
        "\n",
        "class Solution:\n",
        "    def twoSum(self, nums: List[int], target: int) -> List[int]:\n",
        "        hashtable = dict()\n",
        "        for i, num in enumerate(nums):\n",
        "            if target - num in hashtable:\n",
        "                return [hashtable[target - num], i]\n",
        "            hashtable[num] = i\n",
        "        return []\n",
        "\n",
        "nums = [1, 4, 6, 10, 15]\n",
        "targets = 100\n",
        "Solution().twoSum(nums, targets)"
      ],
      "metadata": {
        "colab": {
          "base_uri": "https://localhost:8080/"
        },
        "id": "w1WuqZdpz9aY",
        "outputId": "2522f0c5-073f-445a-f824-6044d4230bb3"
      },
      "execution_count": 8,
      "outputs": [
        {
          "output_type": "execute_result",
          "data": {
            "text/plain": [
              "[]"
            ]
          },
          "metadata": {},
          "execution_count": 8
        }
      ]
    }
  ]
}